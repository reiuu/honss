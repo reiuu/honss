{
  "nbformat": 4,
  "nbformat_minor": 0,
  "metadata": {
    "colab": {
      "name": "hons att2",
      "provenance": [],
      "authorship_tag": "ABX9TyNTFIcxMqBGcAmmSe3e0yJ4",
      "include_colab_link": true
    },
    "kernelspec": {
      "name": "python3",
      "display_name": "Python 3"
    },
    "language_info": {
      "name": "python"
    },
    "accelerator": "GPU"
  },
  "cells": [
    {
      "cell_type": "markdown",
      "metadata": {
        "id": "view-in-github",
        "colab_type": "text"
      },
      "source": [
        "<a href=\"https://colab.research.google.com/github/reiuu/honss/blob/one-hot-targets/overfitting_LSTM.ipynb\" target=\"_parent\"><img src=\"https://colab.research.google.com/assets/colab-badge.svg\" alt=\"Open In Colab\"/></a>"
      ]
    },
    {
      "cell_type": "markdown",
      "source": [
        "##Installs, setup, etc."
      ],
      "metadata": {
        "id": "iy7MiVWZzUCo"
      }
    },
    {
      "cell_type": "code",
      "execution_count": 1,
      "metadata": {
        "colab": {
          "base_uri": "https://localhost:8080/"
        },
        "id": "MR1M1N6ry6VI",
        "outputId": "236a5357-0867-4455-b9ce-246c85e4e02e"
      },
      "outputs": [
        {
          "output_type": "stream",
          "name": "stdout",
          "text": [
            "Mon Mar  7 18:43:13 2022       \n",
            "+-----------------------------------------------------------------------------+\n",
            "| NVIDIA-SMI 460.32.03    Driver Version: 460.32.03    CUDA Version: 11.2     |\n",
            "|-------------------------------+----------------------+----------------------+\n",
            "| GPU  Name        Persistence-M| Bus-Id        Disp.A | Volatile Uncorr. ECC |\n",
            "| Fan  Temp  Perf  Pwr:Usage/Cap|         Memory-Usage | GPU-Util  Compute M. |\n",
            "|                               |                      |               MIG M. |\n",
            "|===============================+======================+======================|\n",
            "|   0  Tesla P100-PCIE...  Off  | 00000000:00:04.0 Off |                    0 |\n",
            "| N/A   32C    P0    26W / 250W |      0MiB / 16280MiB |      0%      Default |\n",
            "|                               |                      |                  N/A |\n",
            "+-------------------------------+----------------------+----------------------+\n",
            "                                                                               \n",
            "+-----------------------------------------------------------------------------+\n",
            "| Processes:                                                                  |\n",
            "|  GPU   GI   CI        PID   Type   Process name                  GPU Memory |\n",
            "|        ID   ID                                                   Usage      |\n",
            "|=============================================================================|\n",
            "|  No running processes found                                                 |\n",
            "+-----------------------------------------------------------------------------+\n"
          ]
        }
      ],
      "source": [
        "gpu_info = !nvidia-smi\n",
        "gpu_info = '\\n'.join(gpu_info)\n",
        "if gpu_info.find('failed') >= 0:\n",
        "  print('Not connected to a GPU')\n",
        "else:\n",
        "  print(gpu_info)"
      ]
    },
    {
      "cell_type": "code",
      "source": [
        "#assumes we already have tensorflow installed (e.g. on colab)\n",
        "!sudo apt install -y fluidsynth\n",
        "!pip install --upgrade pyfluidsynth\n",
        "!pip install pretty_midi\n",
        "!pip install muspy #important to have this last, otherwise it interferes with fluidsynth version"
      ],
      "metadata": {
        "id": "7jCgzZGMzCTK"
      },
      "execution_count": null,
      "outputs": []
    },
    {
      "cell_type": "code",
      "source": [
        "import collections\n",
        "import datetime\n",
        "import glob\n",
        "import numpy as np\n",
        "import pandas as pd\n",
        "import torchtext\n",
        "import muspy\n",
        "import fluidsynth\n",
        "import tensorflow as tf\n",
        "import os\n",
        "import music21\n",
        "import random\n",
        "from os import path\n",
        "from IPython import display\n",
        "from matplotlib import pyplot as plt"
      ],
      "metadata": {
        "id": "VUu2tVnvzGQK"
      },
      "execution_count": 3,
      "outputs": []
    },
    {
      "cell_type": "code",
      "source": [
        "muspy.download_musescore_soundfont()"
      ],
      "metadata": {
        "colab": {
          "base_uri": "https://localhost:8080/"
        },
        "id": "-t7ZopYhzHTG",
        "outputId": "3d32aa33-2766-44c9-da7c-029dd6830bd5"
      },
      "execution_count": 4,
      "outputs": [
        {
          "output_type": "stream",
          "name": "stdout",
          "text": [
            "Start downloading MuseScore General soundfont.\n",
            "MuseScore General soundfont has successfully been downloaded to : /root/.muspy/musescore-general.\n"
          ]
        }
      ]
    },
    {
      "cell_type": "code",
      "source": [
        "#set a seed so that our model is deterministic (result reproducable)\n",
        "\n",
        "seed = 1\n",
        "np.random.seed(seed)\n",
        "tf.random.set_seed(seed)\n",
        "\n",
        "#constants\n",
        "NO_FILES = 50\n",
        "SAMPLING_RATE = 16000\n",
        "RESOLUTION = 384\n",
        "BATCH_SIZE = 64\n",
        "LEARNING_RATE = 0.001\n",
        "SEQ_LENGTH = 25\n",
        "VOCAB_SIZE = 355  #356 for event no velocity, 388 for event w/ velocity, \n",
        "N_EPOCHS = 250"
      ],
      "metadata": {
        "id": "99Mshb5XzI5X"
      },
      "execution_count": 20,
      "outputs": []
    },
    {
      "cell_type": "code",
      "source": [
        "#download dataset (MAESTRO)\n",
        "files = []\n",
        "\n",
        "if not (path.exists('/content/maestro-v3.0.0')):\n",
        "  url = 'https://storage.googleapis.com/magentadata/datasets/maestro/v3.0.0/maestro-v3.0.0-midi.zip'\n",
        "  from_path = './maestro-v3.0.0-midi.zip'\n",
        "  to_path = './'\n",
        "\n",
        "  torchtext.utils.download_from_url(url, from_path)\n",
        "  torchtext.utils.extract_archive(from_path, to_path)\n",
        "else: print('Already downloaded the MAESTRO V3 dataset.')\n",
        "\n",
        "files = glob.glob('maestro-v3.0.0/*/*.mid*') #create list of all .midi files"
      ],
      "metadata": {
        "colab": {
          "base_uri": "https://localhost:8080/"
        },
        "id": "B-lzEbHDzOM3",
        "outputId": "ff1da8a9-777a-4d06-a4d8-06f4fa82b93e"
      },
      "execution_count": 6,
      "outputs": [
        {
          "output_type": "stream",
          "name": "stderr",
          "text": [
            "100%|██████████| 58.4M/58.4M [00:02<00:00, 20.2MB/s]\n"
          ]
        }
      ]
    },
    {
      "cell_type": "code",
      "source": [
        "files[0]\n",
        "len(files)\n",
        "files = random.shuffle(files)"
      ],
      "metadata": {
        "colab": {
          "base_uri": "https://localhost:8080/"
        },
        "id": "ljn4TwplzTKo",
        "outputId": "773a15cd-1197-4716-d72c-c6818557cccb"
      },
      "execution_count": 7,
      "outputs": [
        {
          "output_type": "execute_result",
          "data": {
            "text/plain": [
              "1276"
            ]
          },
          "metadata": {},
          "execution_count": 7
        }
      ]
    },
    {
      "cell_type": "markdown",
      "source": [
        "##Datasets"
      ],
      "metadata": {
        "id": "muNoku_YzykK"
      }
    },
    {
      "cell_type": "code",
      "source": [
        "def normalise(music: np.ndarray) -> np.ndarray:\n",
        "    return music/VOCAB_SIZE\n",
        "    \n",
        "def denormalise(music: np.ndarray)-> np.ndarray:\n",
        "    return music*VOCAB_SIZE"
      ],
      "metadata": {
        "id": "CQ5HflguWDdf"
      },
      "execution_count": 8,
      "outputs": []
    },
    {
      "cell_type": "markdown",
      "source": [
        " creating the actual dataset of arrays, from midi files"
      ],
      "metadata": {
        "id": "HnBgdKrUfbWe"
      }
    },
    {
      "cell_type": "code",
      "source": [
        "train_dataset = []\n",
        "total_notes = 0\n",
        "validate_dataset = []\n",
        "test_dataset = []\n",
        "\n",
        "for file in files[:NO_FILES]:\n",
        "  midi_file = muspy.read_midi(file)\n",
        "  train_dataset.append(muspy.to_event_representation(midi_file))\n",
        "  total_notes += muspy.to_event_representation(midi_file).size\n",
        "  \n",
        "for file in files[NO_FILES:NO_FILES + int(NO_FILES*0.1)]: #20% of the train set\n",
        "  midi_file = muspy.read_midi(file)\n",
        "  validate_dataset.append(muspy.to_event_representation(midi_file))\n"
      ],
      "metadata": {
        "id": "A2KItjs7z2Av"
      },
      "execution_count": 9,
      "outputs": []
    },
    {
      "cell_type": "markdown",
      "source": [
        "defining functions to build the dataset structure"
      ],
      "metadata": {
        "id": "a46JsytSfg4i"
      }
    },
    {
      "cell_type": "code",
      "source": [
        "def convert_array(array_ds):\n",
        "  array_ds = np.concatenate(array_ds).ravel() #turns tuple of numpy arrays into a flat 1d numpy array   \n",
        "  return array_ds\n",
        "\n",
        "def create_sequences(array_ds) -> tf.Tensor:\n",
        "  array_ds = tf.convert_to_tensor(array_ds, dtype=tf.float32)\n",
        "  array_ds = tf.data.Dataset.from_tensor_slices(array_ds)\n",
        "  array_ds = array_ds.batch(1)\n",
        "  array_ds = array_ds.batch(SEQ_LENGTH+1,drop_remainder=True) #+1 because we are removing 1 from array\n",
        "  #array_ds = tf.reshape(array_ds, (len(array_ds), SEQ_LENGTH, 1))\n",
        "\n",
        "  return array_ds\n",
        "\n",
        "def create_target(array_ds):\n",
        "  test_ds = array_ds[:-1]\n",
        "  test_ds = normalise(test_ds)\n",
        "\n",
        "  target = array_ds[-1]\n",
        "  target = tf.cast(target, tf.int32)\n",
        "  target = tf.one_hot(target, 356)\n",
        "  target = tf.squeeze(target)\n",
        "\n",
        "  return test_ds, target"
      ],
      "metadata": {
        "id": "9vtzB7kKV732"
      },
      "execution_count": 10,
      "outputs": []
    },
    {
      "cell_type": "code",
      "source": [
        "train_ds = convert_array(train_dataset) #flat array\n",
        "validate_ds = convert_array(validate_dataset)"
      ],
      "metadata": {
        "id": "0QrnJc-nYfh0"
      },
      "execution_count": 11,
      "outputs": []
    },
    {
      "cell_type": "code",
      "source": [
        "train_ds = create_sequences(train_ds) #groups of seq length tensors\n",
        "dataset = train_ds.map(create_target) #groups of seq length tensors, with 1 target note\n",
        "dataset = (dataset.shuffle(total_notes+1).batch(BATCH_SIZE, drop_remainder=True).prefetch(tf.data.experimental.AUTOTUNE))"
      ],
      "metadata": {
        "id": "COGcE3qebINQ"
      },
      "execution_count": 12,
      "outputs": []
    },
    {
      "cell_type": "code",
      "source": [
        "validate_ds = create_sequences(validate_ds)\n",
        "val_dataset = validate_ds.map(create_target)\n",
        "val_dataset = (val_dataset.shuffle(total_notes+1).batch(BATCH_SIZE, drop_remainder=True).prefetch(tf.data.experimental.AUTOTUNE))"
      ],
      "metadata": {
        "id": "ORUZpEqYYT4R"
      },
      "execution_count": 13,
      "outputs": []
    },
    {
      "cell_type": "code",
      "source": [
        "for input,target in dataset.take(1):\n",
        "  print('batch shape:', input.shape)\n",
        "  print('sequence elements (first 10):', input[4][0: 10]) #check if new target is correct\n",
        "  print()\n",
        "  print('taget shape:', target.shape)\n",
        "  print('target:', target[22])"
      ],
      "metadata": {
        "colab": {
          "base_uri": "https://localhost:8080/"
        },
        "id": "CmKjmLAsbK6h",
        "outputId": "2b361d6e-248d-4289-e65e-07327b8d5ce9"
      },
      "execution_count": 14,
      "outputs": [
        {
          "output_type": "stream",
          "name": "stdout",
          "text": [
            "batch shape: (64, 25, 1)\n",
            "sequence elements (first 10): tf.Tensor(\n",
            "[[0.16338028]\n",
            " [0.90140843]\n",
            " [0.52394366]\n",
            " [0.8028169 ]\n",
            " [0.15492958]\n",
            " [0.943662  ]\n",
            " [0.515493  ]\n",
            " [0.828169  ]\n",
            " [0.23098591]\n",
            " [0.7887324 ]], shape=(10, 1), dtype=float32)\n",
            "\n",
            "taget shape: (64, 356)\n",
            "target: tf.Tensor(\n",
            "[0. 0. 0. 0. 0. 0. 0. 0. 0. 0. 0. 0. 0. 0. 0. 0. 0. 0. 0. 0. 0. 0. 0. 0.\n",
            " 0. 0. 0. 0. 0. 0. 0. 0. 0. 0. 0. 0. 0. 0. 0. 0. 0. 0. 0. 0. 0. 0. 0. 0.\n",
            " 0. 0. 0. 0. 0. 0. 0. 0. 0. 0. 0. 0. 0. 0. 0. 0. 0. 0. 0. 0. 0. 0. 0. 0.\n",
            " 1. 0. 0. 0. 0. 0. 0. 0. 0. 0. 0. 0. 0. 0. 0. 0. 0. 0. 0. 0. 0. 0. 0. 0.\n",
            " 0. 0. 0. 0. 0. 0. 0. 0. 0. 0. 0. 0. 0. 0. 0. 0. 0. 0. 0. 0. 0. 0. 0. 0.\n",
            " 0. 0. 0. 0. 0. 0. 0. 0. 0. 0. 0. 0. 0. 0. 0. 0. 0. 0. 0. 0. 0. 0. 0. 0.\n",
            " 0. 0. 0. 0. 0. 0. 0. 0. 0. 0. 0. 0. 0. 0. 0. 0. 0. 0. 0. 0. 0. 0. 0. 0.\n",
            " 0. 0. 0. 0. 0. 0. 0. 0. 0. 0. 0. 0. 0. 0. 0. 0. 0. 0. 0. 0. 0. 0. 0. 0.\n",
            " 0. 0. 0. 0. 0. 0. 0. 0. 0. 0. 0. 0. 0. 0. 0. 0. 0. 0. 0. 0. 0. 0. 0. 0.\n",
            " 0. 0. 0. 0. 0. 0. 0. 0. 0. 0. 0. 0. 0. 0. 0. 0. 0. 0. 0. 0. 0. 0. 0. 0.\n",
            " 0. 0. 0. 0. 0. 0. 0. 0. 0. 0. 0. 0. 0. 0. 0. 0. 0. 0. 0. 0. 0. 0. 0. 0.\n",
            " 0. 0. 0. 0. 0. 0. 0. 0. 0. 0. 0. 0. 0. 0. 0. 0. 0. 0. 0. 0. 0. 0. 0. 0.\n",
            " 0. 0. 0. 0. 0. 0. 0. 0. 0. 0. 0. 0. 0. 0. 0. 0. 0. 0. 0. 0. 0. 0. 0. 0.\n",
            " 0. 0. 0. 0. 0. 0. 0. 0. 0. 0. 0. 0. 0. 0. 0. 0. 0. 0. 0. 0. 0. 0. 0. 0.\n",
            " 0. 0. 0. 0. 0. 0. 0. 0. 0. 0. 0. 0. 0. 0. 0. 0. 0. 0. 0. 0.], shape=(356,), dtype=float32)\n"
          ]
        }
      ]
    },
    {
      "cell_type": "code",
      "source": [
        "#[x for x in dataset]"
      ],
      "metadata": {
        "id": "jWCUUD36omqS"
      },
      "execution_count": null,
      "outputs": []
    },
    {
      "cell_type": "markdown",
      "source": [
        "##Create network and train"
      ],
      "metadata": {
        "id": "UHvk77Uvf6p_"
      }
    },
    {
      "cell_type": "code",
      "source": [
        "model = tf.keras.Sequential()\n",
        "model.add(tf.keras.layers.LSTM(\n",
        "    512,\n",
        "    input_shape=(SEQ_LENGTH, 1),\n",
        "    recurrent_dropout=0.3,\n",
        "    return_sequences=True\n",
        "))\n",
        "model.add(tf.keras.layers.LSTM(512))\n",
        "model.add(tf.keras.layers.Dropout(0.3))\n",
        "model.add(tf.keras.layers.Dense(VOCAB_SIZE+1))\n",
        "model.add(tf.keras.layers.Softmax())\n",
        "\n",
        "loss = tf.keras.losses.CategoricalCrossentropy()\n",
        "optimizer = tf.keras.optimizers.Adam(learning_rate=LEARNING_RATE)\n",
        "model.compile(loss=loss, optimizer=optimizer) "
      ],
      "metadata": {
        "colab": {
          "base_uri": "https://localhost:8080/"
        },
        "id": "HOMAET5pf9p0",
        "outputId": "e6ff4d73-d9a1-4c1c-846d-db1e8abaab4a"
      },
      "execution_count": 22,
      "outputs": [
        {
          "output_type": "stream",
          "name": "stdout",
          "text": [
            "WARNING:tensorflow:Layer lstm_6 will not use cuDNN kernels since it doesn't meet the criteria. It will use a generic GPU kernel as fallback when running on GPU.\n"
          ]
        },
        {
          "output_type": "stream",
          "name": "stderr",
          "text": [
            "WARNING:tensorflow:Layer lstm_6 will not use cuDNN kernels since it doesn't meet the criteria. It will use a generic GPU kernel as fallback when running on GPU.\n"
          ]
        }
      ]
    },
    {
      "cell_type": "code",
      "source": [
        "callbacks = [\n",
        "    tf.keras.callbacks.ModelCheckpoint(\n",
        "        filepath='./training_checkpoints/ckpt_{epoch}',\n",
        "        save_weights_only=True),\n",
        "    tf.keras.callbacks.EarlyStopping(\n",
        "        monitor='loss',\n",
        "        patience=5,\n",
        "        verbose=1,\n",
        "        restore_best_weights=True),\n",
        "]"
      ],
      "metadata": {
        "id": "vfUfX5DCipyO"
      },
      "execution_count": 23,
      "outputs": []
    },
    {
      "cell_type": "code",
      "source": [
        "losses = model.evaluate(dataset)"
      ],
      "metadata": {
        "colab": {
          "base_uri": "https://localhost:8080/"
        },
        "id": "PCuXWDOois44",
        "outputId": "22bc9328-d516-450f-97be-ca7a55bf510b"
      },
      "execution_count": 24,
      "outputs": [
        {
          "output_type": "stream",
          "name": "stdout",
          "text": [
            "928/928 [==============================] - 15s 11ms/step - loss: 5.8748\n"
          ]
        }
      ]
    },
    {
      "cell_type": "code",
      "source": [
        "%%time\n",
        "\n",
        "history = model.fit(\n",
        "    dataset,\n",
        "    epochs=20,\n",
        "    callbacks=callbacks,\n",
        "    validation_data=val_dataset\n",
        ")"
      ],
      "metadata": {
        "colab": {
          "base_uri": "https://localhost:8080/"
        },
        "id": "58kN9MXjiuUs",
        "outputId": "6cc5168b-2325-45ae-c2f5-b76933aea9d7"
      },
      "execution_count": 26,
      "outputs": [
        {
          "output_type": "stream",
          "name": "stdout",
          "text": [
            "Epoch 1/20\n",
            "928/928 [==============================] - 42s 40ms/step - loss: 4.2538 - val_loss: 4.2271\n",
            "Epoch 2/20\n",
            "928/928 [==============================] - 41s 40ms/step - loss: 4.1918 - val_loss: 4.1578\n",
            "Epoch 3/20\n",
            "928/928 [==============================] - 41s 40ms/step - loss: 4.1402 - val_loss: 4.1365\n",
            "Epoch 4/20\n",
            "928/928 [==============================] - 41s 40ms/step - loss: 4.0965 - val_loss: 4.0991\n",
            "Epoch 5/20\n",
            "928/928 [==============================] - 41s 40ms/step - loss: 4.0516 - val_loss: 4.0928\n",
            "Epoch 6/20\n",
            "928/928 [==============================] - 41s 40ms/step - loss: 4.0142 - val_loss: 4.0850\n",
            "Epoch 7/20\n",
            "928/928 [==============================] - 41s 40ms/step - loss: 3.9685 - val_loss: 4.1023\n",
            "Epoch 8/20\n",
            "928/928 [==============================] - 41s 40ms/step - loss: 3.9111 - val_loss: 4.1127\n",
            "Epoch 9/20\n",
            "928/928 [==============================] - 43s 43ms/step - loss: 3.8494 - val_loss: 4.1382\n",
            "Epoch 10/20\n",
            "928/928 [==============================] - 42s 40ms/step - loss: 3.7761 - val_loss: 4.1797\n",
            "Epoch 11/20\n",
            "928/928 [==============================] - 41s 40ms/step - loss: 3.6937 - val_loss: 4.1890\n",
            "Epoch 12/20\n",
            "928/928 [==============================] - 41s 40ms/step - loss: 3.5980 - val_loss: 4.2355\n",
            "Epoch 13/20\n",
            "928/928 [==============================] - 41s 41ms/step - loss: 3.4974 - val_loss: 4.3114\n",
            "Epoch 14/20\n",
            "928/928 [==============================] - 41s 40ms/step - loss: 3.3867 - val_loss: 4.3321\n",
            "Epoch 15/20\n",
            "928/928 [==============================] - 41s 40ms/step - loss: 3.2768 - val_loss: 4.3736\n",
            "Epoch 16/20\n",
            "928/928 [==============================] - 41s 40ms/step - loss: 3.1514 - val_loss: 4.4408\n",
            "Epoch 17/20\n",
            "928/928 [==============================] - 41s 40ms/step - loss: 3.0286 - val_loss: 4.5051\n",
            "Epoch 18/20\n",
            "928/928 [==============================] - 41s 40ms/step - loss: 2.9080 - val_loss: 4.5693\n",
            "Epoch 19/20\n",
            "928/928 [==============================] - 41s 40ms/step - loss: 2.7858 - val_loss: 4.6325\n",
            "Epoch 20/20\n",
            "928/928 [==============================] - 41s 40ms/step - loss: 2.6760 - val_loss: 4.7467\n",
            "CPU times: user 17min 27s, sys: 1min 7s, total: 18min 34s\n",
            "Wall time: 13min 40s\n"
          ]
        }
      ]
    },
    {
      "cell_type": "code",
      "source": [
        "plt.plot(history.epoch, history.history['loss'], history.history['val_loss'], label='total loss')"
      ],
      "metadata": {
        "colab": {
          "base_uri": "https://localhost:8080/",
          "height": 300
        },
        "id": "7dlYOfGftqRs",
        "outputId": "f9cbd535-97f8-48d2-83c8-200f8cb96e75"
      },
      "execution_count": 27,
      "outputs": [
        {
          "output_type": "execute_result",
          "data": {
            "text/plain": [
              "[<matplotlib.lines.Line2D at 0x7f4582a43790>,\n",
              " <matplotlib.lines.Line2D at 0x7f458298cc50>]"
            ]
          },
          "metadata": {},
          "execution_count": 27
        },
        {
          "output_type": "display_data",
          "data": {
            "image/png": "[encoded data removed]",
            "text/plain": [
              "<Figure size 432x288 with 1 Axes>"
            ]
          },
          "metadata": {
            "image/png": {
              "width": 372,
              "height": 248
            },
            "needs_background": "light"
          }
        }
      ]
    },
    {
      "cell_type": "code",
      "source": [
        "music = muspy.read_midi(files[0])\n",
        "music = muspy.to_event_representation(music)\n",
        "music = music[1:SEQ_LENGTH+2]\n",
        "music = normalise(music) #XDDDD\n",
        "\n",
        "\n",
        "#music = normalise(music)\n",
        "print(music)"
      ],
      "metadata": {
        "colab": {
          "base_uri": "https://localhost:8080/"
        },
        "id": "w3bbpxJSzvDK",
        "outputId": "8149382b-1f93-491f-eca4-0e31b9d46456"
      },
      "execution_count": 33,
      "outputs": [
        {
          "output_type": "stream",
          "name": "stdout",
          "text": [
            "[[1.        ]\n",
            " [1.        ]\n",
            " [1.        ]\n",
            " [1.        ]\n",
            " [1.        ]\n",
            " [1.        ]\n",
            " [1.        ]\n",
            " [1.        ]\n",
            " [0.92676056]\n",
            " [0.21126761]\n",
            " [0.75492958]\n",
            " [0.13521127]\n",
            " [0.8056338 ]\n",
            " [0.17746479]\n",
            " [1.        ]\n",
            " [0.87605634]\n",
            " [0.53802817]\n",
            " [0.81126761]\n",
            " [0.49577465]\n",
            " [1.        ]\n",
            " [0.74084507]\n",
            " [0.21690141]\n",
            " [0.84507042]\n",
            " [0.14084507]\n",
            " [0.74084507]\n",
            " [0.18309859]]\n"
          ]
        }
      ]
    },
    {
      "cell_type": "code",
      "source": [
        "no_preds = 1\n",
        "generated = []\n",
        "\n",
        "def predict(notes, model):\n",
        "  inputs = tf.expand_dims(notes, 0)\n",
        "  predictions = model.predict(inputs)\n",
        "  \n",
        "  notes = np.squeeze(predictions)\n",
        "  \n",
        "  #notes = notes*VOCAB_SIZE\n",
        "  print(notes)\n",
        "  #notes = tf.random.categorical(notes, num_samples=1)\n",
        "\n",
        "  #notes = np.around(notes)\n",
        "  #notes = notes.astype(int)\n",
        "  #print(notes)\n",
        "  note = np.argmax(notes)\n",
        "  print(note)\n",
        "  return note\n",
        "\n",
        "#print()\n",
        "\n",
        "for i in range (no_preds):                         #complete this function: append bugged with dimension or similar?\n",
        "  note = predict(music, model)\n",
        "  #generated.append(note)\n",
        "  #music = np.append(music, note)\n",
        "  #music = music[1:]\n",
        "\n",
        "#generated = np.asarray(generated)\n",
        "#generated = append_note_off(generated)\n",
        "\n",
        "#muspy.show_pianoroll(muspyfile)"
      ],
      "metadata": {
        "colab": {
          "base_uri": "https://localhost:8080/"
        },
        "id": "Kz79hSEDz2g_",
        "outputId": "78d50b00-8794-4f40-9ceb-0cc60be013bf"
      },
      "execution_count": 32,
      "outputs": [
        {
          "output_type": "stream",
          "name": "stdout",
          "text": [
            "[6.84447166e-10 8.46126225e-10 7.63719199e-10 1.16096865e-09\n",
            " 8.78080220e-10 8.11693490e-10 1.03116782e-09 8.07521050e-10\n",
            " 7.30176142e-10 1.19158505e-09 9.39422984e-10 1.39464063e-09\n",
            " 7.07894687e-10 1.21626709e-09 9.05530206e-10 1.05576836e-09\n",
            " 9.49565204e-10 8.28568270e-10 8.19832480e-10 8.50605253e-10\n",
            " 1.21431531e-09 7.26018357e-10 1.26015232e-09 1.43178769e-09\n",
            " 5.96801983e-05 1.22908830e-06 2.44693439e-08 1.91702507e-04\n",
            " 1.01613245e-04 5.50694458e-05 2.30466598e-04 6.45909386e-05\n",
            " 2.83752361e-05 4.89992881e-03 3.40854982e-04 1.05507765e-03\n",
            " 6.82904967e-04 1.97572983e-04 1.21280178e-03 6.69589685e-03\n",
            " 5.97103732e-04 3.85937747e-03 1.17917629e-02 3.04943253e-03\n",
            " 6.55402848e-03 4.59204195e-03 3.18662859e-02 7.69352191e-04\n",
            " 1.37836789e-03 5.43020898e-03 1.26767484e-02 3.76296812e-03\n",
            " 5.52335987e-03 3.72326225e-02 4.58714645e-03 1.79590788e-02\n",
            " 2.85875071e-02 2.59133913e-02 1.20129008e-02 1.16207749e-02\n",
            " 4.45117243e-02 2.68422458e-02 1.30476495e-02 4.06824313e-02\n",
            " 2.11904813e-02 2.80155055e-02 2.09303703e-02 5.65563217e-02\n",
            " 2.56297328e-02 8.85163099e-02 2.22597327e-02 1.23178381e-02\n",
            " 1.07488008e-02 8.43816809e-03 2.74533387e-02 3.95966740e-03\n",
            " 5.24299517e-02 2.92346301e-03 3.83399450e-03 5.47145633e-03\n",
            " 5.00471680e-04 7.88537436e-04 5.95545745e-04 1.20337565e-04\n",
            " 3.86324013e-04 1.33892216e-04 2.11191465e-04 1.97554327e-04\n",
            " 1.19729033e-04 2.39159090e-05 7.00038363e-05 6.80239100e-05\n",
            " 8.60953060e-06 7.58714532e-06 7.84887743e-05 1.05559433e-04\n",
            " 1.09743187e-05 4.15485238e-06 2.97623785e-07 1.75690934e-06\n",
            " 2.59913782e-06 2.32851580e-05 1.88983563e-07 1.03375714e-06\n",
            " 9.53101598e-10 8.72587336e-10 8.60264249e-10 9.64053171e-10\n",
            " 9.13346343e-10 1.06027864e-09 1.08351317e-09 6.39945597e-10\n",
            " 8.30637947e-10 5.18774856e-10 9.30644783e-10 8.62393434e-10\n",
            " 8.14593670e-10 1.03880760e-09 5.86220905e-10 6.63676336e-10\n",
            " 1.22823107e-09 9.99238248e-10 8.47780457e-10 9.73049863e-10\n",
            " 1.00567610e-09 7.50348728e-10 8.11382295e-10 1.24631705e-09\n",
            " 7.19794280e-10 9.62926627e-10 9.81244752e-10 9.34387012e-10\n",
            " 1.19603649e-09 8.62156568e-10 6.73619938e-10 1.01687680e-09\n",
            " 8.30546076e-10 1.18129084e-09 7.65889741e-10 1.13769738e-09\n",
            " 8.91054397e-10 1.20469312e-09 7.44483863e-10 9.54939461e-10\n",
            " 1.15212073e-09 9.34411992e-10 7.49624862e-10 7.79043607e-10\n",
            " 9.84352710e-10 9.24791355e-10 3.74385593e-07 9.10688073e-07\n",
            " 5.27200541e-07 7.66592507e-07 1.18353993e-08 8.17580428e-07\n",
            " 1.45997037e-04 1.89239854e-05 2.05815491e-06 3.46682937e-05\n",
            " 5.37767028e-06 1.01276419e-06 3.85518033e-05 3.13212659e-05\n",
            " 6.04229790e-05 2.12894938e-05 9.27692017e-05 1.65947073e-03\n",
            " 6.19967177e-04 1.68112817e-03 3.95309529e-04 7.00590317e-04\n",
            " 8.28601595e-04 1.13353936e-03 1.22548328e-04 1.50457199e-04\n",
            " 1.61072385e-04 4.90691920e-04 1.38893013e-03 4.08494496e-04\n",
            " 2.72249547e-03 7.12566660e-04 5.21321897e-04 3.90662719e-03\n",
            " 1.33691076e-03 1.08276447e-03 6.71360642e-03 1.20642944e-03\n",
            " 4.04061237e-03 6.86379208e-04 6.08321186e-03 8.93618260e-03\n",
            " 1.10852644e-02 7.54870474e-03 2.67192442e-03 1.06934039e-02\n",
            " 1.16875749e-02 1.65750179e-02 2.53302492e-02 2.28921743e-03\n",
            " 1.73402373e-02 6.83418941e-03 7.53357541e-03 1.00793028e-02\n",
            " 3.25703844e-02 7.57043809e-03 6.44601975e-03 2.52217823e-03\n",
            " 8.19908571e-04 6.61434839e-04 5.89900184e-04 2.14983174e-03\n",
            " 1.33295590e-03 3.00946092e-04 6.07805501e-04 4.15015966e-04\n",
            " 2.62088230e-04 1.82122225e-04 3.63871732e-05 7.48520979e-05\n",
            " 3.42309177e-05 2.19444628e-04 1.79993049e-06 5.22720529e-06\n",
            " 1.82419296e-06 2.28043473e-06 4.04955586e-07 7.70651184e-07\n",
            " 3.84723080e-06 5.42201451e-06 8.80649775e-10 3.96560637e-07\n",
            " 4.14261649e-07 1.28184081e-06 8.80982343e-10 8.62299676e-10\n",
            " 8.01446298e-10 8.90079344e-10 7.32424676e-10 1.14451848e-09\n",
            " 1.04430453e-09 8.83580709e-10 8.41407721e-10 7.72556574e-10\n",
            " 8.50996329e-10 7.43044071e-10 8.01175681e-10 5.51470869e-10\n",
            " 7.96987421e-10 1.08911991e-09 8.70987782e-10 8.49353643e-10\n",
            " 1.33090494e-09 1.22379962e-09 7.87044430e-10 9.93883753e-10\n",
            " 4.19657226e-05 4.05151286e-06 1.38851219e-05 1.57829418e-05\n",
            " 2.11618976e-06 2.22846375e-05 7.04708691e-06 6.60964088e-06\n",
            " 3.56630553e-05 6.36953064e-06 1.72240780e-05 9.04388526e-06\n",
            " 9.99232634e-06 4.46893864e-06 1.75447076e-05 3.90865762e-06\n",
            " 9.61629212e-06 1.35253492e-06 1.80149073e-05 1.41843282e-06\n",
            " 1.08125068e-05 4.55788449e-06 3.46092747e-06 6.40375492e-06\n",
            " 7.12405244e-06 1.80307097e-06 6.04036404e-06 2.12179134e-06\n",
            " 9.77111313e-07 3.59423007e-06 1.28258193e-06 3.15407578e-06\n",
            " 2.16751846e-06 6.98668100e-06 2.35570656e-06 6.87952593e-07\n",
            " 4.78914956e-07 1.57591546e-06 2.47014873e-06 5.67729501e-07\n",
            " 2.25037456e-06 7.91752257e-07 5.98112422e-07 7.44485078e-07\n",
            " 3.37500819e-06 1.21986307e-06 2.29567013e-06 1.57885631e-06\n",
            " 9.68357881e-07 1.69091945e-05 2.91860147e-06 2.50236189e-06\n",
            " 9.04288925e-07 2.75983689e-06 1.17663558e-06 1.32557716e-05\n",
            " 1.35629887e-06 3.08936023e-07 2.17378897e-06 2.81019709e-07\n",
            " 2.98635564e-06 7.62627496e-06 1.37350003e-06 2.03763079e-06\n",
            " 1.82368854e-06 1.34581830e-06 3.98989243e-07 1.47929370e-06\n",
            " 6.91538219e-07 1.20136781e-06 2.37792574e-06 1.64729829e-06\n",
            " 8.08539880e-06 5.54925418e-06 1.43129364e-05 1.90528363e-06\n",
            " 2.29005241e-06 3.77938486e-05 2.27024475e-06 9.75001603e-06\n",
            " 6.39779137e-06 1.86929128e-06 3.75105537e-06 1.07703218e-05\n",
            " 5.55442739e-06 3.17777403e-06 2.84056370e-07 6.69113888e-06\n",
            " 9.31202010e-07 1.11296224e-07 2.33743208e-06 5.43193835e-07\n",
            " 7.04776994e-07 1.55352370e-06 9.60728175e-06 3.26555664e-06\n",
            " 4.45084680e-07 2.81521466e-06 1.61780081e-05 5.16271666e-06]\n",
            "69\n"
          ]
        }
      ]
    }
  ]
}